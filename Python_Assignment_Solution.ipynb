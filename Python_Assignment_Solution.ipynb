{
  "nbformat": 4,
  "nbformat_minor": 0,
  "metadata": {
    "colab": {
      "provenance": [],
      "authorship_tag": "ABX9TyMd+fugGKOZdXzDUaStaZvM",
      "include_colab_link": true
    },
    "kernelspec": {
      "name": "python3",
      "display_name": "Python 3"
    },
    "language_info": {
      "name": "python"
    }
  },
  "cells": [
    {
      "cell_type": "markdown",
      "metadata": {
        "id": "view-in-github",
        "colab_type": "text"
      },
      "source": [
        "<a href=\"https://colab.research.google.com/github/Rohitkr2002/python-Assignment/blob/main/Python_Assignment_Solution.ipynb\" target=\"_parent\"><img src=\"https://colab.research.google.com/assets/colab-badge.svg\" alt=\"Open In Colab\"/></a>"
      ]
    },
    {
      "cell_type": "markdown",
      "source": [
        "# ASSIGNMENT - 2\n",
        "### Module 3: Control Structures in Python\n"
      ],
      "metadata": {
        "id": "I24J7cdxRLbs"
      }
    },
    {
      "cell_type": "markdown",
      "source": [
        "Task 1: Check if a Number is Even or Odd\n",
        "Problem Statement: Write a Python program that:\n",
        "1. \tTakes an integer input from the user.\n",
        "2. \tChecks whether the number is even or odd using an if-else statement.\n",
        "3. \tDisplays the result accordingly."
      ],
      "metadata": {
        "id": "MUqUlOPQRZge"
      }
    },
    {
      "cell_type": "code",
      "source": [
        "# Take a number as input from the user and convert it to an integer\n",
        "num = int(input(\"Enter a number: \"))\n",
        "\n",
        "# Check if the number is divisible by 2 (i.e., even)\n",
        "if num % 2 == 0:\n",
        "    print(\"Number is Even\")  # This line executes if the condition is True\n",
        "else:\n",
        "    print(\"Number is Odd\")   # This line executes if the condition is False"
      ],
      "metadata": {
        "colab": {
          "base_uri": "https://localhost:8080/"
        },
        "id": "7-XeBt1NRa9-",
        "outputId": "3150592d-9bd3-4259-b8d8-2d90df47a09b"
      },
      "execution_count": 4,
      "outputs": [
        {
          "output_type": "stream",
          "name": "stdout",
          "text": [
            "Enter a number: 7\n",
            "Number is Odd\n"
          ]
        }
      ]
    },
    {
      "cell_type": "markdown",
      "source": [
        "Task 2: Sum of Integers from 1 to 50 Using a Loop\n",
        "\n",
        "Problem Statement: Write a Python program that:\n",
        "1.   Uses a for loop to iterate over numbers from 1 to 50.\n",
        "2.   Calculates the sum of all integers in this range.\n",
        "3.   Displays the final sum.\n"
      ],
      "metadata": {
        "id": "wb1e3mdrS4-g"
      }
    },
    {
      "cell_type": "code",
      "source": [
        "# Initialize a variable to hold the sum of numbers\n",
        "total_sum = 0\n",
        "\n",
        "print(\"Adding numbers from 1 to 50...\")  # Inform the user what the loop is doing\n",
        "\n",
        "# Loop through numbers from 1 to 50 (range end is exclusive)\n",
        "for n in range(1, 51):\n",
        "    total_sum += n  # Add each number to total_sum\n",
        "# Print the final total after the loop ends\n",
        "print(\"Final Total Sum from 1 to 50 is:\", total_sum)  # Output: 1275\n"
      ],
      "metadata": {
        "colab": {
          "base_uri": "https://localhost:8080/"
        },
        "id": "xbEIJgVWVZBc",
        "outputId": "afd29438-0afd-46ec-9740-38f6805075ec"
      },
      "execution_count": 15,
      "outputs": [
        {
          "output_type": "stream",
          "name": "stdout",
          "text": [
            "Adding numbers from 1 to 50...\n",
            "Final Total Sum from 1 to 50 is: 1275\n"
          ]
        }
      ]
    }
  ]
}