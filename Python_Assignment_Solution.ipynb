{
  "nbformat": 4,
  "nbformat_minor": 0,
  "metadata": {
    "colab": {
      "provenance": [],
      "authorship_tag": "ABX9TyPDtEGAMlP/y0h+yepWl03N",
      "include_colab_link": true
    },
    "kernelspec": {
      "name": "python3",
      "display_name": "Python 3"
    },
    "language_info": {
      "name": "python"
    }
  },
  "cells": [
    {
      "cell_type": "markdown",
      "metadata": {
        "id": "view-in-github",
        "colab_type": "text"
      },
      "source": [
        "<a href=\"https://colab.research.google.com/github/Rohitkr2002/python-Assignment/blob/main/Python_Assignment_Solution.ipynb\" target=\"_parent\"><img src=\"https://colab.research.google.com/assets/colab-badge.svg\" alt=\"Open In Colab\"/></a>"
      ]
    },
    {
      "cell_type": "markdown",
      "source": [
        "# ASSIGNMENT 1:\n",
        "### Module 2: Basic Python Concepts\n",
        "**Task 1: Perform Basic Mathematical Operations**\n",
        "\n",
        "Problem Statement: Write a Python program that does the following:\n",
        "1.  Takes two numbers as input from the user.\n",
        "2.  Performs the basic mathematical operations on these two numbers:\n",
        "\n",
        "o\tAddition\n",
        "\n",
        "o\tSubtraction\n",
        "\n",
        "o\tMultiplication\n",
        "\n",
        "o\tDivision\n",
        "3.  Displays the results of each operation on the screen.\n"
      ],
      "metadata": {
        "id": "sGgfXBruRfI4"
      }
    },
    {
      "cell_type": "code",
      "execution_count": 1,
      "metadata": {
        "colab": {
          "base_uri": "https://localhost:8080/"
        },
        "id": "cWhCzxyFIJCL",
        "outputId": "983e6d6a-57a7-4170-fca1-a803dd4c9649"
      },
      "outputs": [
        {
          "output_type": "stream",
          "name": "stdout",
          "text": [
            "Enter first number: 5\n",
            "Enter second number: 10\n",
            "15\n",
            "-5\n",
            "50\n",
            "0.5\n"
          ]
        }
      ],
      "source": [
        "user1 = int(input(\"Enter first number: \"))\n",
        "user2 = int(input(\"Enter second number: \"))\n",
        "\n",
        "print(user1 + user2)\n",
        "print(user1 - user2)\n",
        "print(user1 * user2)\n",
        "print(user1 / user2)"
      ]
    },
    {
      "cell_type": "markdown",
      "source": [
        "### Task 2: Create a Personalized Greeting\n",
        "**Problem Statement: Write a Python program that:**\n",
        "1.  Takes a user's first name and last name as input.\n",
        "2.  Concatenates the first name and last name into a full name.\n",
        "3.  Prints a personalized greeting message using the full name.\n"
      ],
      "metadata": {
        "id": "QDZncBIVStvn"
      }
    },
    {
      "cell_type": "code",
      "source": [
        "user1 = input(\"Enter first name: \")\n",
        "user2 = input(\"Enter last name: \")\n",
        "\n",
        "print(\"Hello \" + user1 + \" \" + user2 + \"! Welcome to the python program.\")"
      ],
      "metadata": {
        "colab": {
          "base_uri": "https://localhost:8080/"
        },
        "id": "G0HAd7rBS3nl",
        "outputId": "098ddfe6-c50f-4bf6-bac4-dde5133082b7"
      },
      "execution_count": 5,
      "outputs": [
        {
          "output_type": "stream",
          "name": "stdout",
          "text": [
            "Enter first name: Jone\n",
            "Enter last name: Doe\n",
            "Hello Jone Doe! Welcome to the python program.\n"
          ]
        }
      ]
    }
  ]
}